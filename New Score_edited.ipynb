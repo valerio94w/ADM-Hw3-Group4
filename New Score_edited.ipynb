{
 "cells": [
  {
   "cell_type": "markdown",
   "metadata": {},
   "source": [
    "### Step 4: Define a new score!"
   ]
  },
  {
   "cell_type": "markdown",
   "metadata": {},
   "source": [
    "The code shown below assumes that we have a database, which contains all the results of the conjunctive query, without an order."
   ]
  },
  {
   "cell_type": "code",
   "execution_count": 1,
   "metadata": {},
   "outputs": [],
   "source": [
    "import pandas as pd"
   ]
  },
  {
   "cell_type": "markdown",
   "metadata": {},
   "source": [
    "To define the new score, we use the following variables:\n",
    "1. average_rate_per_night\n",
    "2. bedrooms_count\t\n",
    "3. city\n",
    "4. date_of_listing\n",
    "\n",
    "Following we explain the functions that were used to compute the score, in each of the variables"
   ]
  },
  {
   "cell_type": "markdown",
   "metadata": {},
   "source": [
    "#### 1. Average rate per night: \n",
    "\n",
    "This function compares the ideal rate for the user, which is explicitly asked, and the actual rate per nigth of each Airbnb, called by the variable doc_rate. Resulting in a rate between 0 and 1, called rate_score.\n",
    "\n",
    "- The maximum rate_score you can have is 1, and it is reached when user_rate = doc_rate.\n",
    "- The minimum rate_score you can have is 0, and it is reached when doc_rate it's more than 30 dollars away from user_rate\n",
    "- The intermediate values are given by areas around our variable of interest: user_rate, giving more points to values closer and less to the farthest."
   ]
  },
  {
   "cell_type": "code",
   "execution_count": 2,
   "metadata": {},
   "outputs": [],
   "source": [
    "def rate_score(user_rate, doc_rate):\n",
    "    if user_rate == doc_rate:\n",
    "        rate_score = 1\n",
    "    elif user_rate - 10 <= doc_rate <= user_rate + 10:\n",
    "        rate_score = 0.75\n",
    "    elif user_rate - 20 <= doc_rate <= user_rate + 20:\n",
    "        rate_score = 0.5\n",
    "    elif user_rate - 30 <= doc_rate <= user_rate + 30:\n",
    "        rate_score = 0.25\n",
    "    else:\n",
    "        rate_score = 0\n",
    "    return rate_score"
   ]
  },
  {
   "cell_type": "code",
   "execution_count": 3,
   "metadata": {},
   "outputs": [
    {
     "data": {
      "text/plain": [
       "0.5"
      ]
     },
     "execution_count": 3,
     "metadata": {},
     "output_type": "execute_result"
    }
   ],
   "source": [
    "rate_score(25, 45)"
   ]
  },
  {
   "cell_type": "code",
   "execution_count": null,
   "metadata": {},
   "outputs": [],
   "source": [
    "# Remove the $ \n",
    "df['average_rate_per_night'] = df['average_rate_per_night'].str.replace(\"$\", '')\n",
    "# Convert to integer\n",
    "df['average_rate_per_night'] = pd.to_numeric(df['average_rate_per_night'])"
   ]
  },
  {
   "cell_type": "markdown",
   "metadata": {},
   "source": [
    "In order to execute the previous function, we need to make some small modifications to the data as removing the dollar sign and convert the variable to an integer."
   ]
  },
  {
   "cell_type": "markdown",
   "metadata": {},
   "source": [
    "#### 2. Bedrooms count:\n",
    "\n",
    "This function compares the number of bedrooms required by the user, which is explicitly asked, and the actual number of bedrooms of each Airbnb, called by the variable doc_bedroom. Resulting in a rate between 0 and 1, called bedroom_score.\n",
    "\n",
    "- The maximum bedroom_score you can have is 1, and it is reached when user_bedroom = doc_bedroom.\n",
    "- The minimum bedroom_score you can have is 0, and it is reached when doc_bedroom it's more than 3 bedrooms away from user_bedroom.\n",
    "- The intermediate values are given by areas around our variable of interest: user_bedrrom, giving more points to values closer and less to the farthest."
   ]
  },
  {
   "cell_type": "code",
   "execution_count": 209,
   "metadata": {},
   "outputs": [],
   "source": [
    "def bedroom_score(user_bedroom, doc_bedroom):\n",
    "    if user_bedroom == doc_bedroom:\n",
    "        bedroom_score = 1\n",
    "    elif user_bedroom - 1 <= doc_bedroom <= user_bedroom + 1:\n",
    "        bedroom_score = 0.75\n",
    "    elif user_bedroom - 2 <= doc_bedroom <= user_bedroom + 2:\n",
    "        bedroom_score = 0.5\n",
    "    elif user_bedroom - 3 <= doc_bedroom <= user_bedroom + 3:\n",
    "        bedroom_score = 0.25\n",
    "    else:\n",
    "        bedroom_score = 0\n",
    "    return bedroom_score"
   ]
  },
  {
   "cell_type": "markdown",
   "metadata": {},
   "source": [
    "In order to execute the previous function, we need to make some small modifications to the data as removing null values. In this case, the variable bedrooms_count contains numbers, and the string \"Studio\". A Studio is a small apartment which combines living room, bedroom, and kitchen into a single room, for that reason, we assume that when it says \"Studio\", it refers to a single bedroom. Ultimately we convert the variable to an integer."
   ]
  },
  {
   "cell_type": "code",
   "execution_count": 124,
   "metadata": {},
   "outputs": [],
   "source": [
    "# Remove null values\n",
    "df = df[pd.notnull(df[\"bedrooms_count\"])]\n",
    "# Replace Studio for 1\n",
    "df['bedrooms_count'] = df['bedrooms_count'].str.replace('Studio', '1')\n",
    "# Convert to integer\n",
    "df['bedrooms_count'] = df['bedrooms_count'].astype(int)"
   ]
  },
  {
   "cell_type": "markdown",
   "metadata": {},
   "source": [
    "#### 3. City: \n",
    "\n",
    "This function compares the city preference specified by the user, and the actual city of each Airbnb, called by the variable doc_city. Resulting in a binary rate that takes the value 1 when user_city = doc_city, and 0 otherwise. "
   ]
  },
  {
   "cell_type": "code",
   "execution_count": null,
   "metadata": {},
   "outputs": [],
   "source": [
    "pip install geopy"
   ]
  },
  {
   "cell_type": "code",
   "execution_count": null,
   "metadata": {},
   "outputs": [],
   "source": [
    "import geopy.distance"
   ]
  },
  {
   "cell_type": "code",
   "execution_count": 211,
   "metadata": {},
   "outputs": [],
   "source": [
    "def city_score(user_city, doc_city):\n",
    "    coords_1 = (user_city_latitude, user_city_longitude) #we have to found a way to get the coordinates from the name of the city\n",
    "    coords_2 = (doc_city_latitude, doc_city_longitude)\n",
    "    distance = geopy.distance.vincenty(coords_1, coords_2).km\n",
    "    if 0 < distance < 5:\n",
    "        city_score = 1\n",
    "    elif 5 =< distance <= 10:\n",
    "        city_score = 0.50\n",
    "    elif 10 <= distance <= 20:\n",
    "        city_score = 0.25\n",
    "    else:\n",
    "        city_score = 0.10\n",
    "    return city_score"
   ]
  },
  {
   "cell_type": "markdown",
   "metadata": {},
   "source": [
    "#### 4. Date of listing: \n",
    "\n",
    "In this case, the score assigned to each Airbnb, is not given by the information provided by the user. \n",
    "We assume that an older date of listing means that the owner of the Airbnb is a more experienced one and therefore is a better option for the user. In this way, we give a lower score to the newer Airbnb and a higher one to the older ones. The date_score variable also belongs to the interval between 0 and 1. The chosen method is the follower: we calculate the quantiles of the dates' distribution and we assign a score based on the date position: the oldest dates'll be near the first quantile, the yongest dates 'll be near the third quantile. This method always guarantees a higher score on the oldest dates."
   ]
  },
  {
   "cell_type": "code",
   "execution_count": null,
   "metadata": {},
   "outputs": [],
   "source": [
    "def date_score(doc_date_of_listing):\n",
    "    df.date_of_listing = pd.to_datetime(df.date_of_listing)\n",
    "    first_quantile=df.date_of_listing.quantile(0.25)\n",
    "    median = df.date_of_listing.quantile(0.5)\n",
    "    third_quantile = df.date_of_listing.quantile(0.75)\n",
    "    \n",
    "    if doc_date_of_listing <= first_quantile:\n",
    "        date_score = 1\n",
    "    elif first_quantile < doc_date_of_listing <= median:\n",
    "        date_score = 0.75\n",
    "    elif median < doc_date_of_listing < third_quantile:\n",
    "        date_score = 0.5\n",
    "    elif doc_date_of_listing >= third_quantile:\n",
    "        date_score = 0.25\n",
    "    \n",
    "    return date_score"
   ]
  },
  {
   "cell_type": "markdown",
   "metadata": {},
   "source": [
    "####  Final Score\n",
    "To finish, we will define the function that calculates the final score for each Airbnb, doing a weighted average of our four previously calculated scores. As we do not find any relevant reason to assign more weight to one variable than to another, we weight each sub score, as 25% of the total.\n",
    "\n",
    "Again we have a result that oscillates between 0 and 1, where 1 represents a greater similarity of Airbnb with the preferences of the user."
   ]
  },
  {
   "cell_type": "code",
   "execution_count": 213,
   "metadata": {},
   "outputs": [],
   "source": [
    "def final_score(rate_score, bedroom_score, city_score, date_score):\n",
    "    return 0.25*rate_score + 0.25*bedroom_score + 0.25*city_score + 0.25*date_score"
   ]
  },
  {
   "cell_type": "markdown",
   "metadata": {},
   "source": [
    "### EXAMPLE"
   ]
  },
  {
   "cell_type": "markdown",
   "metadata": {},
   "source": [
    "Let's the whole df dataframe is the result of the conjunctive query that we have to rank"
   ]
  },
  {
   "cell_type": "code",
   "execution_count": 201,
   "metadata": {},
   "outputs": [],
   "source": [
    "# Read the database\n",
    "df = pd.read_csv(\"Airbnb_Texas_Rentals.csv\")\n",
    "# Select only the first 5 rows and name it cqres\n",
    "# Remove the $ \n",
    "df['average_rate_per_night'] = df['average_rate_per_night'].str.replace(\"$\", '')\n",
    "# Convert to integer\n",
    "df['average_rate_per_night'] = pd.to_numeric(df['average_rate_per_night'])\n",
    "# Remove null values\n",
    "df = df[pd.notnull(df[\"bedrooms_count\"])]\n",
    "# Replace Studio for 1\n",
    "df['bedrooms_count'] = df['bedrooms_count'].str.replace('Studio', '1')\n",
    "# Convert to integer\n",
    "df['bedrooms_count'] = df['bedrooms_count'].astype(int)"
   ]
  },
  {
   "cell_type": "code",
   "execution_count": 215,
   "metadata": {},
   "outputs": [],
   "source": [
    "df = df.iloc[:5]"
   ]
  },
  {
   "cell_type": "code",
   "execution_count": 216,
   "metadata": {},
   "outputs": [
    {
     "data": {
      "text/html": [
       "<div>\n",
       "<style scoped>\n",
       "    .dataframe tbody tr th:only-of-type {\n",
       "        vertical-align: middle;\n",
       "    }\n",
       "\n",
       "    .dataframe tbody tr th {\n",
       "        vertical-align: top;\n",
       "    }\n",
       "\n",
       "    .dataframe thead th {\n",
       "        text-align: right;\n",
       "    }\n",
       "</style>\n",
       "<table border=\"1\" class=\"dataframe\">\n",
       "  <thead>\n",
       "    <tr style=\"text-align: right;\">\n",
       "      <th></th>\n",
       "      <th>Unnamed: 0</th>\n",
       "      <th>average_rate_per_night</th>\n",
       "      <th>bedrooms_count</th>\n",
       "      <th>city</th>\n",
       "      <th>date_of_listing</th>\n",
       "      <th>description</th>\n",
       "      <th>latitude</th>\n",
       "      <th>longitude</th>\n",
       "      <th>title</th>\n",
       "      <th>url</th>\n",
       "      <th>New Score</th>\n",
       "    </tr>\n",
       "  </thead>\n",
       "  <tbody>\n",
       "    <tr>\n",
       "      <th>0</th>\n",
       "      <td>1</td>\n",
       "      <td>27.0</td>\n",
       "      <td>2</td>\n",
       "      <td>Humble</td>\n",
       "      <td>May 2016</td>\n",
       "      <td>Welcome to stay in private room with queen bed...</td>\n",
       "      <td>30.020138</td>\n",
       "      <td>-95.293996</td>\n",
       "      <td>2 Private rooms/bathroom 10min from IAH airport</td>\n",
       "      <td>https://www.airbnb.com/rooms/18520444?location...</td>\n",
       "      <td>0.4375</td>\n",
       "    </tr>\n",
       "    <tr>\n",
       "      <th>1</th>\n",
       "      <td>2</td>\n",
       "      <td>149.0</td>\n",
       "      <td>4</td>\n",
       "      <td>San Antonio</td>\n",
       "      <td>November 2010</td>\n",
       "      <td>Stylish, fully remodeled home in upscale NW – ...</td>\n",
       "      <td>29.503068</td>\n",
       "      <td>-98.447688</td>\n",
       "      <td>Unique Location! Alamo Heights - Designer Insp...</td>\n",
       "      <td>https://www.airbnb.com/rooms/17481455?location...</td>\n",
       "      <td>0.1875</td>\n",
       "    </tr>\n",
       "    <tr>\n",
       "      <th>2</th>\n",
       "      <td>3</td>\n",
       "      <td>59.0</td>\n",
       "      <td>1</td>\n",
       "      <td>Houston</td>\n",
       "      <td>January 2017</td>\n",
       "      <td>'River house on island close to the city' \\nA ...</td>\n",
       "      <td>29.829352</td>\n",
       "      <td>-95.081549</td>\n",
       "      <td>River house near the city</td>\n",
       "      <td>https://www.airbnb.com/rooms/16926307?location...</td>\n",
       "      <td>0.5</td>\n",
       "    </tr>\n",
       "    <tr>\n",
       "      <th>3</th>\n",
       "      <td>4</td>\n",
       "      <td>60.0</td>\n",
       "      <td>1</td>\n",
       "      <td>Bryan</td>\n",
       "      <td>February 2016</td>\n",
       "      <td>Private bedroom in a cute little home situated...</td>\n",
       "      <td>30.637304</td>\n",
       "      <td>-96.337846</td>\n",
       "      <td>Private Room Close to Campus</td>\n",
       "      <td>https://www.airbnb.com/rooms/11839729?location...</td>\n",
       "      <td>0.5</td>\n",
       "    </tr>\n",
       "    <tr>\n",
       "      <th>4</th>\n",
       "      <td>5</td>\n",
       "      <td>75.0</td>\n",
       "      <td>2</td>\n",
       "      <td>Fort Worth</td>\n",
       "      <td>February 2017</td>\n",
       "      <td>Welcome to our original 1920's home. We recent...</td>\n",
       "      <td>32.747097</td>\n",
       "      <td>-97.286434</td>\n",
       "      <td>The Porch</td>\n",
       "      <td>https://www.airbnb.com/rooms/17325114?location...</td>\n",
       "      <td>0.375</td>\n",
       "    </tr>\n",
       "  </tbody>\n",
       "</table>\n",
       "</div>"
      ],
      "text/plain": [
       "   Unnamed: 0  average_rate_per_night  bedrooms_count         city  \\\n",
       "0           1                    27.0               2       Humble   \n",
       "1           2                   149.0               4  San Antonio   \n",
       "2           3                    59.0               1      Houston   \n",
       "3           4                    60.0               1        Bryan   \n",
       "4           5                    75.0               2   Fort Worth   \n",
       "\n",
       "  date_of_listing                                        description  \\\n",
       "0        May 2016  Welcome to stay in private room with queen bed...   \n",
       "1   November 2010  Stylish, fully remodeled home in upscale NW – ...   \n",
       "2    January 2017  'River house on island close to the city' \\nA ...   \n",
       "3   February 2016  Private bedroom in a cute little home situated...   \n",
       "4   February 2017  Welcome to our original 1920's home. We recent...   \n",
       "\n",
       "    latitude  longitude                                              title  \\\n",
       "0  30.020138 -95.293996    2 Private rooms/bathroom 10min from IAH airport   \n",
       "1  29.503068 -98.447688  Unique Location! Alamo Heights - Designer Insp...   \n",
       "2  29.829352 -95.081549                          River house near the city   \n",
       "3  30.637304 -96.337846                       Private Room Close to Campus   \n",
       "4  32.747097 -97.286434                                          The Porch   \n",
       "\n",
       "                                                 url New Score  \n",
       "0  https://www.airbnb.com/rooms/18520444?location...    0.4375  \n",
       "1  https://www.airbnb.com/rooms/17481455?location...    0.1875  \n",
       "2  https://www.airbnb.com/rooms/16926307?location...       0.5  \n",
       "3  https://www.airbnb.com/rooms/11839729?location...       0.5  \n",
       "4  https://www.airbnb.com/rooms/17325114?location...     0.375  "
      ]
     },
     "execution_count": 216,
     "metadata": {},
     "output_type": "execute_result"
    }
   ],
   "source": [
    "df"
   ]
  },
  {
   "cell_type": "markdown",
   "metadata": {},
   "source": [
    "On the other hand, we need gather information about user's preferences"
   ]
  },
  {
   "cell_type": "code",
   "execution_count": 217,
   "metadata": {},
   "outputs": [
    {
     "name": "stdout",
     "output_type": "stream",
     "text": [
      "How much is the ideal rate you would pay per night? 56\n",
      "How many bedrooms do you need? 2\n",
      "In wich city do you prefer to stay? Dallas\n"
     ]
    }
   ],
   "source": [
    "user_rate = int(input(\"How much is the ideal rate you would pay per night? \"))\n",
    "user_bedroom = int(input(\"How many bedrooms do you need? \"))\n",
    "user_city = input(\"In wich city do you prefer to stay? \")"
   ]
  },
  {
   "cell_type": "code",
   "execution_count": 218,
   "metadata": {},
   "outputs": [],
   "source": [
    "# create a new column with empty values\n",
    "df[\"New Score\"] = \"\""
   ]
  },
  {
   "cell_type": "code",
   "execution_count": 225,
   "metadata": {},
   "outputs": [
    {
     "name": "stderr",
     "output_type": "stream",
     "text": [
      "C:\\Users\\falli\\Anaconda3\\lib\\site-packages\\ipykernel_launcher.py:7: SettingWithCopyWarning: \n",
      "A value is trying to be set on a copy of a slice from a DataFrame\n",
      "\n",
      "See the caveats in the documentation: http://pandas.pydata.org/pandas-docs/stable/indexing.html#indexing-view-versus-copy\n",
      "  import sys\n"
     ]
    }
   ],
   "source": [
    "# fill that empty space with the result of computing the final score\n",
    "for i in range(len(df)):\n",
    "    rs = rate_score(user_rate, df[\"average_rate_per_night\"][i])\n",
    "    bs = bedroom_score(user_bedroom, df[\"bedrooms_count\"][i])\n",
    "    cs = city_score(user_city, df[\"city\"][i])\n",
    "    ds = date_score(doc_date_of_listing, df[\"date_of_listing\"][i])\n",
    "    fs = final_score(rs, bs, cs, ds)\n",
    "    df[\"New Score\"][i] = fs"
   ]
  },
  {
   "cell_type": "code",
   "execution_count": 236,
   "metadata": {},
   "outputs": [
    {
     "data": {
      "text/html": [
       "<div>\n",
       "<style scoped>\n",
       "    .dataframe tbody tr th:only-of-type {\n",
       "        vertical-align: middle;\n",
       "    }\n",
       "\n",
       "    .dataframe tbody tr th {\n",
       "        vertical-align: top;\n",
       "    }\n",
       "\n",
       "    .dataframe thead th {\n",
       "        text-align: right;\n",
       "    }\n",
       "</style>\n",
       "<table border=\"1\" class=\"dataframe\">\n",
       "  <thead>\n",
       "    <tr style=\"text-align: right;\">\n",
       "      <th></th>\n",
       "      <th>title</th>\n",
       "      <th>description</th>\n",
       "      <th>city</th>\n",
       "      <th>url</th>\n",
       "    </tr>\n",
       "    <tr>\n",
       "      <th>Ranking</th>\n",
       "      <th></th>\n",
       "      <th></th>\n",
       "      <th></th>\n",
       "      <th></th>\n",
       "    </tr>\n",
       "  </thead>\n",
       "  <tbody>\n",
       "    <tr>\n",
       "      <th>1</th>\n",
       "      <td>River house near the city</td>\n",
       "      <td>'River house on island close to the city' \\nA ...</td>\n",
       "      <td>Houston</td>\n",
       "      <td>https://www.airbnb.com/rooms/16926307?location...</td>\n",
       "    </tr>\n",
       "    <tr>\n",
       "      <th>2</th>\n",
       "      <td>Private Room Close to Campus</td>\n",
       "      <td>Private bedroom in a cute little home situated...</td>\n",
       "      <td>Bryan</td>\n",
       "      <td>https://www.airbnb.com/rooms/11839729?location...</td>\n",
       "    </tr>\n",
       "    <tr>\n",
       "      <th>3</th>\n",
       "      <td>The Porch</td>\n",
       "      <td>Welcome to our original 1920's home. We recent...</td>\n",
       "      <td>Fort Worth</td>\n",
       "      <td>https://www.airbnb.com/rooms/17325114?location...</td>\n",
       "    </tr>\n",
       "    <tr>\n",
       "      <th>4</th>\n",
       "      <td>2 Private rooms/bathroom 10min from IAH airport</td>\n",
       "      <td>Welcome to stay in private room with queen bed...</td>\n",
       "      <td>Humble</td>\n",
       "      <td>https://www.airbnb.com/rooms/18520444?location...</td>\n",
       "    </tr>\n",
       "    <tr>\n",
       "      <th>5</th>\n",
       "      <td>Unique Location! Alamo Heights - Designer Insp...</td>\n",
       "      <td>Stylish, fully remodeled home in upscale NW – ...</td>\n",
       "      <td>San Antonio</td>\n",
       "      <td>https://www.airbnb.com/rooms/17481455?location...</td>\n",
       "    </tr>\n",
       "  </tbody>\n",
       "</table>\n",
       "</div>"
      ],
      "text/plain": [
       "                                                     title  \\\n",
       "Ranking                                                      \n",
       "1                                River house near the city   \n",
       "2                             Private Room Close to Campus   \n",
       "3                                                The Porch   \n",
       "4          2 Private rooms/bathroom 10min from IAH airport   \n",
       "5        Unique Location! Alamo Heights - Designer Insp...   \n",
       "\n",
       "                                               description         city  \\\n",
       "Ranking                                                                   \n",
       "1        'River house on island close to the city' \\nA ...      Houston   \n",
       "2        Private bedroom in a cute little home situated...        Bryan   \n",
       "3        Welcome to our original 1920's home. We recent...   Fort Worth   \n",
       "4        Welcome to stay in private room with queen bed...       Humble   \n",
       "5        Stylish, fully remodeled home in upscale NW – ...  San Antonio   \n",
       "\n",
       "                                                       url  \n",
       "Ranking                                                     \n",
       "1        https://www.airbnb.com/rooms/16926307?location...  \n",
       "2        https://www.airbnb.com/rooms/11839729?location...  \n",
       "3        https://www.airbnb.com/rooms/17325114?location...  \n",
       "4        https://www.airbnb.com/rooms/18520444?location...  \n",
       "5        https://www.airbnb.com/rooms/17481455?location...  "
      ]
     },
     "execution_count": 236,
     "metadata": {},
     "output_type": "execute_result"
    }
   ],
   "source": [
    "# Sort the values by score in descending order\n",
    "df = df.sort_values('New Score', ascending=False)\n",
    "# Reset the index, using now the sorted values\n",
    "df = df.reset_index(drop=True)\n",
    "# Make the index start from 1\n",
    "df.index += 1 \n",
    "# Rename the index as Ranking\n",
    "df.index.name = 'Ranking'\n",
    "# Select only the columns of interest and show the results\n",
    "cols_of_interes = [\"title\", \"description\", \"city\", \"url\"]\n",
    "df[cols_of_interes]"
   ]
  }
 ],
 "metadata": {
  "kernelspec": {
   "display_name": "Python 3",
   "language": "python",
   "name": "python3"
  },
  "language_info": {
   "codemirror_mode": {
    "name": "ipython",
    "version": 3
   },
   "file_extension": ".py",
   "mimetype": "text/x-python",
   "name": "python",
   "nbconvert_exporter": "python",
   "pygments_lexer": "ipython3",
   "version": "3.7.0"
  }
 },
 "nbformat": 4,
 "nbformat_minor": 2
}
