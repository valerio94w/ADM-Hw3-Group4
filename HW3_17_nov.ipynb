{
 "cells": [
  {
   "cell_type": "code",
   "execution_count": 11,
   "metadata": {},
   "outputs": [],
   "source": [
    "import pandas as pd\n",
    "import csv\n",
    "import nltk\n",
    "import os\n",
    "from pandas import DataFrame\n",
    "from nltk.corpus import stopwords\n",
    "from nltk.tokenize import RegexpTokenizer\n",
    "from nltk.stem import PorterStemmer\n",
    "from collections import defaultdict"
   ]
  },
  {
   "cell_type": "code",
   "execution_count": 2,
   "metadata": {},
   "outputs": [],
   "source": [
    "# Import the data\n",
    "df = pd.read_csv(\"Airbnb_Texas_Rentals.csv\") "
   ]
  },
  {
   "cell_type": "code",
   "execution_count": 3,
   "metadata": {},
   "outputs": [
    {
     "data": {
      "text/plain": [
       "Unnamed: 0                 0\n",
       "average_rate_per_night    28\n",
       "bedrooms_count             3\n",
       "city                       0\n",
       "date_of_listing            0\n",
       "description                2\n",
       "latitude                  34\n",
       "longitude                 34\n",
       "title                      3\n",
       "url                        0\n",
       "dtype: int64"
      ]
     },
     "execution_count": 3,
     "metadata": {},
     "output_type": "execute_result"
    }
   ],
   "source": [
    "df.isnull().sum()"
   ]
  },
  {
   "cell_type": "code",
   "execution_count": 4,
   "metadata": {},
   "outputs": [],
   "source": [
    "# Drop the rows with null numbers \n",
    "df = df[pd.notnull(df[\"description\"])]\n",
    "df = df[pd.notnull(df[\"title\"])]"
   ]
  },
  {
   "cell_type": "code",
   "execution_count": 5,
   "metadata": {},
   "outputs": [],
   "source": [
    "# Create a tsv file for each row\n",
    "for i in range(len(df)):\n",
    "    pd.DataFrame(df.iloc[i]).transpose().to_csv('Files/doc_%s.tsv'%i, sep='\\t')"
   ]
  },
  {
   "cell_type": "code",
   "execution_count": 6,
   "metadata": {},
   "outputs": [],
   "source": [
    "tokenizer = RegexpTokenizer(r'\\w+')\n",
    "ps = PorterStemmer()"
   ]
  },
  {
   "cell_type": "code",
   "execution_count": 7,
   "metadata": {},
   "outputs": [],
   "source": [
    "# Create an empty set for the vocabulary\n",
    "voc_set = set()\n",
    "# And an empty dictionary for storage the words for each document\n",
    "d = {}"
   ]
  },
  {
   "cell_type": "code",
   "execution_count": 8,
   "metadata": {},
   "outputs": [],
   "source": [
    "# For every file...\n",
    "for i in range(len(df)):\n",
    "    doc = pd.read_csv('Files/doc_%s.tsv'%i, sep='\\t')\n",
    "    # Concatenate the description and title in a string\n",
    "    words = doc[\"description\"][0] + doc[\"title\"][0]\n",
    "    # Remove \"\\\\n\" and replace with a space\n",
    "    words = words.replace(\"\\\\n\",\" \")\n",
    "    # Convert everything to lowercase\n",
    "    words = words.lower()\n",
    "    # Removing punctuation\n",
    "    words = tokenizer.tokenize(words)\n",
    "    # Stemming\n",
    "    words = [ps.stem(word) for word in words]\n",
    "    # Keep only unique words\n",
    "    words = set(words)\n",
    "    # Removing stopwords\n",
    "    words = [word for word in words if word not in stopwords.words('english')]\n",
    "    # No integers\n",
    "    words = [x for x in words if not (x.isdigit() or x[0].isdigit())]\n",
    "     # Storage the words in vocabulary set\n",
    "    voc_set.update(words)\n",
    "    # Up date the dictionary with key: file name, values: words\n",
    "    d.update( {i:words})"
   ]
  },
  {
   "cell_type": "code",
   "execution_count": 9,
   "metadata": {},
   "outputs": [],
   "source": [
    "# As a result of this problem, we have a vocabulary set with unique words\n",
    "# an a dictionary, with key: number of the document values: a list of all the words (filtered) in the Airbnb post\n",
    "\n",
    "# Create a vocabulary dictionary from the set dictionary \n",
    "voc_dict = {}\n",
    "voc_list = list(voc_set)\n",
    "for i in range(len(voc_list)):\n",
    "        voc_dict[i] = voc_list[i]"
   ]
  },
  {
   "cell_type": "code",
   "execution_count": 12,
   "metadata": {},
   "outputs": [],
   "source": [
    "# Create the index\n",
    "index = defaultdict(str)\n",
    "\n",
    "for key, value in d.items():\n",
    "    L = list(value)\n",
    "    for value in L:\n",
    "        if value in index:\n",
    "            index[value].append(key)\n",
    "        else:\n",
    "            index[value] = [key]"
   ]
  },
  {
   "cell_type": "code",
   "execution_count": 49,
   "metadata": {},
   "outputs": [
    {
     "name": "stdout",
     "output_type": "stream",
     "text": [
      "a beautiful house with garden and beach\n"
     ]
    }
   ],
   "source": [
    "# Do the same procedure to the query that we did on the docs\n",
    "\n",
    "query = input()\n",
    "# Convert everything to lowercase\n",
    "query = query.lower()\n",
    "# Removing punctuation\n",
    "query = tokenizer.tokenize(query)\n",
    "# Stemming\n",
    "query = [ps.stem(word) for word in query]  \n",
    "# Removing stopwords\n",
    "query = [word for word in query if word not in stopwords.words('english')]\n",
    "# No integers\n",
    "query = [x for x in query if not (x.isdigit() or x[0].isdigit())]\n",
    "# Keep only unique words\n",
    "query = set(query)\n",
    "query = list(query)"
   ]
  },
  {
   "cell_type": "code",
   "execution_count": 50,
   "metadata": {},
   "outputs": [],
   "source": [
    "# Each of the querys matches should contain all the words on the list query\n",
    "\n",
    "querys_matches = []\n",
    "for word in query:\n",
    "    if word in index.keys():\n",
    "        querys_matches.append(set(index[word]))\n",
    "\n",
    "# As a result we are going to have a list, with all the matches, called inter\n",
    "k = 0\n",
    "if len(querys_matches) > 0:\n",
    "    inter = querys_matches[k]\n",
    "    k += 1\n",
    "    for i in range(1, len(querys_matches)):\n",
    "        inter = inter.intersection(querys_matches[k])\n",
    "        k += 1"
   ]
  },
  {
   "cell_type": "code",
   "execution_count": 51,
   "metadata": {},
   "outputs": [
    {
     "name": "stdout",
     "output_type": "stream",
     "text": [
      "No results were found with those characteristics\n"
     ]
    }
   ],
   "source": [
    "if inter == set():\n",
    "    print(\"No results were found with those characteristics\")\n",
    "else:\n",
    "    for i in range(len(inter)):\n",
    "        inter = list(inter)\n",
    "        x = int(inter[i])\n",
    "        file = pd.read_csv(\"Files/doc_%s.tsv\"%x, sep=\"\\t\") \n",
    "        file = file.rename(columns={'title': 'Title'})\n",
    "        file = file.rename(columns={'description': 'Description'})\n",
    "        file = file.rename(columns={'city': 'City'})\n",
    "        file = file.rename(columns={'url': 'Url'})\n",
    "        cols_of_interest = [\"Title\", \"Description\", \"City\", \"Url\"]\n",
    "        file[cols_of_interest].style.hide_index()"
   ]
  }
 ],
 "metadata": {
  "kernelspec": {
   "display_name": "Python 3",
   "language": "python",
   "name": "python3"
  },
  "language_info": {
   "codemirror_mode": {
    "name": "ipython",
    "version": 3
   },
   "file_extension": ".py",
   "mimetype": "text/x-python",
   "name": "python",
   "nbconvert_exporter": "python",
   "pygments_lexer": "ipython3",
   "version": "3.6.5"
  }
 },
 "nbformat": 4,
 "nbformat_minor": 2
}
